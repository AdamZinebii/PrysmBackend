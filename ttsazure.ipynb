{
 "cells": [
  {
   "cell_type": "code",
   "execution_count": null,
   "metadata": {},
   "outputs": [],
   "source": [
    "import azure.cognitiveservices.speech as speechsdk\n",
    "\n",
    "# Configuration du service\n",
    "speech_key = \"A1bjxohsOTGZoXh1fEkeR0f1y0zaXMzSBT9LrFcKfXnGnCjf75LWJQQJ99BFAC5RqLJXJ3w3AAAYACOGIFde\"\n",
    "service_region = \"westeurope\"  # Exemple : \"francecentral\"\n",
    "\n",
    "speech_config = speechsdk.SpeechConfig(subscription=speech_key, region=service_region)\n",
    "speech_config.speech_synthesis_voice_name = \"en-US-JennyNeural\"  # Voix française\n",
    "\n",
    "# Créer un synthétiseur\n",
    "synthesizer = speechsdk.SpeechSynthesizer(speech_config=speech_config)\n",
    "\n",
    "# Texte à lire\n",
    "text = \"Hey there, welcome back to another episode of our exciting news roundup! Today, we've got a mix of stories from the world of crypto, startups, and some fascinating tech tidbits. So, settle in as we dive into what's buzzing. Let's kick things off with the Crypto Markets. Over on the Ethereum subreddit, there's a big discussion about a new proposal called EIP-7917. This is set to bring some major changes to Ethereum's consensus mechanism with the upcoming Fusaka hard fork. The proposal aims to make block proposer schedules more predictable, which is a big deal for making transactions smoother and more reliable.\"\n",
    "\n",
    "# Synthèse vocale\n",
    "result = synthesizer.speak_text_async(text).get()\n",
    "\n",
    "# Vérification\n",
    "if result.reason == speechsdk.ResultReason.SynthesizingAudioCompleted:\n",
    "    print(\"La synthèse audio est terminée.\")\n",
    "elif result.reason == speechsdk.ResultReason.Canceled:\n",
    "    cancellation = result.cancellation_details\n",
    "    print(\"La synthèse a été annulée :\", cancellation.reason)\n"
   ]
  }
 ],
 "metadata": {
  "kernelspec": {
   "display_name": "venv",
   "language": "python",
   "name": "python3"
  },
  "language_info": {
   "codemirror_mode": {
    "name": "ipython",
    "version": 3
   },
   "file_extension": ".py",
   "mimetype": "text/x-python",
   "name": "python",
   "nbconvert_exporter": "python",
   "pygments_lexer": "ipython3",
   "version": "3.12.10"
  }
 },
 "nbformat": 4,
 "nbformat_minor": 2
}
